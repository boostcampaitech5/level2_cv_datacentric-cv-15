{
 "cells": [
  {
   "cell_type": "code",
   "execution_count": 1,
   "id": "8276475c-18ce-488b-9dc5-2f509e32a1a4",
   "metadata": {},
   "outputs": [],
   "source": [
    "import os\n",
    "import json\n",
    "import cv2\n",
    "import pandas as pd\n",
    "import numpy as np\n",
    "import matplotlib.pyplot as plt\n",
    "from PIL import Image, ImageDraw, ImageFont"
   ]
  },
  {
   "cell_type": "code",
   "execution_count": 2,
   "id": "13a35b5d",
   "metadata": {},
   "outputs": [],
   "source": [
    "train_data_root = '/opt/ml/input/data/medical/img/train/'\n",
    "train_list = os.listdir(train_data_root)\n",
    "\n",
    "# 데이터 저장 경로\n",
    "os.makedirs('/opt/ml/input/data/medical/img/train_visualize', exist_ok = True)\n",
    "save_root = '/opt/ml/input/data/medical/img/train_visualize'\n",
    "\n",
    "with open('/opt/ml/input/data/medical/ufo/train.json', 'r') as f:\n",
    "    train_ann_file = json.load(f)\n",
    "    \n",
    "ignore_tags = ['masked', 'exclude-region', 'maintable', 'stamp']\n",
    "\n",
    "for train_img in train_list[:10]:\n",
    "    train_img_root = os.path.join(train_data_root, train_img)\n",
    "    word_info = train_ann_file['images'][train_img]['words']\n",
    "    img = cv2.imread(train_img_root)\n",
    "    \n",
    "    \n",
    "    for p in word_info:\n",
    "        word_tags = word_info[p]['tags']\n",
    "        ignore_sample = any(elem for elem in word_tags if elem in ignore_tags)\n",
    "        if ignore_sample:\n",
    "            continue\n",
    "        if len(word_info[p]['points']) > 4:\n",
    "            continue\n",
    "        if word_info[p]['illegibility']:\n",
    "            continue\n",
    "        points = np.array(word_info[p]['points'], dtype=np.int32).reshape(-1,1,2)\n",
    "        img = cv2.polylines(img, [points] ,True,(0,0,255), 2)\n",
    "    \n",
    "    new_img_name = train_img.replace('.jpg', '_vis.jpg')\n",
    "    cv2.imwrite(os.path.join(save_root, new_img_name), img)\n",
    "    # plt.imshow(img)\n",
    "    # plt.show()"
   ]
  },
  {
   "cell_type": "code",
   "execution_count": null,
   "id": "388b6d87",
   "metadata": {},
   "outputs": [],
   "source": []
  }
 ],
 "metadata": {
  "kernelspec": {
   "display_name": "Python 3 (ipykernel)",
   "language": "python",
   "name": "python3"
  },
  "language_info": {
   "codemirror_mode": {
    "name": "ipython",
    "version": 3
   },
   "file_extension": ".py",
   "mimetype": "text/x-python",
   "name": "python",
   "nbconvert_exporter": "python",
   "pygments_lexer": "ipython3",
   "version": "3.8.5"
  }
 },
 "nbformat": 4,
 "nbformat_minor": 5
}
