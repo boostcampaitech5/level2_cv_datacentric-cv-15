{
 "cells": [
  {
   "cell_type": "code",
   "execution_count": null,
   "metadata": {},
   "outputs": [],
   "source": [
    "import cv2\n",
    "from PIL import Image\n",
    "import json\n",
    "import os\n",
    "import matplotlib.pyplot as plt\n",
    "import numpy as np\n",
    "import math"
   ]
  },
  {
   "cell_type": "code",
   "execution_count": null,
   "metadata": {},
   "outputs": [],
   "source": [
    "with open(\"output.csv\", \"r\") as file:\n",
    "    jsonDict = json.load(file)\n",
    "fileNames = os.listdir(\"../data/medical/img/test/\")\n",
    "print(len(fileNames))"
   ]
  },
  {
   "cell_type": "code",
   "execution_count": null,
   "metadata": {},
   "outputs": [],
   "source": [
    "for num, fileName in enumerate(fileNames) :\n",
    "    image = cv2.imread(\"../data/medical/img/test/\" + fileName)\n",
    "    image = cv2.cvtColor(image, cv2.COLOR_RGB2BGR)\n",
    "    print(image.shape)\n",
    "    plt.suptitle(f'{fileName}, {len(jsonDict[\"images\"][fileName][\"words\"].keys())}', fontsize = 8)\n",
    "    for i in range(len(jsonDict[\"images\"][fileName][\"words\"].keys())) :\n",
    "        floatList = jsonDict[\"images\"][fileName][\"words\"][str(i)][\"points\"]\n",
    "        intList = []\n",
    "        for y in range(len(floatList)):\n",
    "            temp = []\n",
    "            for x in range(2):\n",
    "                temp.append(math.floor(floatList[y][x]))\n",
    "            intList.append(temp)\n",
    "        newList = np.array(intList)\n",
    "        cv2.polylines(image, np.int32([newList]), True, (0, 0, 255))\n",
    "    plt.figure(figsize=(12,16))\n",
    "    plt.imshow(image)\n",
    "    plt.show()\n",
    "    if num == 10:\n",
    "        break"
   ]
  }
 ],
 "metadata": {
  "kernelspec": {
   "display_name": "base",
   "language": "python",
   "name": "python3"
  },
  "language_info": {
   "codemirror_mode": {
    "name": "ipython",
    "version": 3
   },
   "file_extension": ".py",
   "mimetype": "text/x-python",
   "name": "python",
   "nbconvert_exporter": "python",
   "pygments_lexer": "ipython3",
   "version": "3.8.5"
  },
  "orig_nbformat": 4
 },
 "nbformat": 4,
 "nbformat_minor": 2
}
