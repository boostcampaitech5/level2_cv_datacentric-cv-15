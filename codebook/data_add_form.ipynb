{
 "cells": [
  {
   "cell_type": "code",
   "execution_count": null,
   "metadata": {},
   "outputs": [],
   "source": [
    "import os\n",
    "import json\n",
    "import cv2\n",
    "import pandas as pd\n",
    "import numpy as np\n",
    "import matplotlib.pyplot as plt\n",
    "from PIL import Image, ImageDraw, ImageFont"
   ]
  },
  {
   "cell_type": "code",
   "execution_count": null,
   "metadata": {},
   "outputs": [],
   "source": [
    "added_data_root = '/opt/ml/input/data/medical/img/added/'\n",
    "added_list = os.listdir(added_data_root)\n",
    "\n",
    "added_images = []\n",
    "added_jsons = []\n",
    "for file in added_list:\n",
    "    if file.find(\".json\") != -1:\n",
    "        added_jsons.append(file)\n",
    "    elif file.find(\".jpg\") != -1 or file.find(\".jpeg\") != -1:\n",
    "        added_images.append(file)\n",
    "added_images.sort()\n",
    "added_jsons.sort()\n",
    "print(added_images)\n",
    "print(added_jsons)\n",
    "'''\n",
    "for imageName, jsonName in zip(added_images, added_jsons) :\n",
    "    imageFile = cv2.imread(added_data_root + imageName)\n",
    "    with open(added_data_root + jsonName, 'r') as f:\n",
    "        jsonFile = json.load(f)\n",
    "    \n",
    "    for points in jsonFile[\"annotations\"][0][\"polygons\"] :\n",
    "        cv2.polylines(imageFile, np.array([points[\"points\"]], np.int32), True, (0, 0, 255), 2)\n",
    "    plt.figure(figsize=(18, 24))\n",
    "    plt.imshow(imageFile)\n",
    "    plt.show()\n",
    "'''"
   ]
  },
  {
   "cell_type": "code",
   "execution_count": null,
   "metadata": {},
   "outputs": [],
   "source": [
    "jsonFiles = []\n",
    "for imageName, jsonName in zip(added_images, added_jsons) :\n",
    "    with open(added_data_root + jsonName, 'r') as f:\n",
    "        jsonFiles.append(json.load(f))\n",
    "\n",
    "jsonDict = {}\n",
    "with open(\"/opt/ml/input/data/medical/ufo/train_changed.json\", 'r') as f:\n",
    "    jsonDict = json.load(f)\n",
    "    \n",
    "\n",
    "for jsonFile in jsonFiles :\n",
    "    name = jsonFile[\"name\"]\n",
    "    level3 = {}\n",
    "    level4 = {}\n",
    "    for num, box in enumerate(jsonFile[\"annotations\"][0][\"polygons\"]):\n",
    "        level1 = {}\n",
    "        level2 = {}\n",
    "        level1 = box[\"points\"]\n",
    "        level2[\"points\"] = level1\n",
    "        level2[\"illegibility\"] = False\n",
    "        level2[\"tags\"] = {0: \"UpdatedBbox\"}\n",
    "        level3[num] = level2\n",
    "        level4[\"words\"] = level3\n",
    "    jsonDict[\"images\"][name] = level4\n",
    "\n",
    "print(len(jsonDict[\"images\"]))\n",
    "\n",
    "with open(\"/opt/ml/input/data/medical/ufo/train_added.json\", \"w\") as f:\n",
    "    json.dump(jsonDict, f, indent=4)"
   ]
  },
  {
   "cell_type": "code",
   "execution_count": null,
   "metadata": {},
   "outputs": [],
   "source": []
  }
 ],
 "metadata": {
  "kernelspec": {
   "display_name": "Python 3 (ipykernel)",
   "language": "python",
   "name": "python3"
  },
  "language_info": {
   "codemirror_mode": {
    "name": "ipython",
    "version": 3
   },
   "file_extension": ".py",
   "mimetype": "text/x-python",
   "name": "python",
   "nbconvert_exporter": "python",
   "pygments_lexer": "ipython3",
   "version": "3.8.5"
  }
 },
 "nbformat": 4,
 "nbformat_minor": 4
}
